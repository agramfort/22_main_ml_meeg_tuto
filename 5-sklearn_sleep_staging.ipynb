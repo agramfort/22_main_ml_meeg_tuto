{
 "cells": [
  {
   "cell_type": "markdown",
   "metadata": {},
   "source": [
    "\n",
    "\n",
    "# Sleep stage classification from polysomnography (PSG) data\n",
    "\n",
    "<div class=\"alert alert-info\"><h4>Note</h4><p>This code is taken from the analysis code used in [3]. If you reuse\n",
    "          this code please consider citing this work.</p></div>\n",
    "\n",
    "This tutorial explains how to perform a toy polysomnography analysis that\n",
    "answers the following question:\n",
    "\n",
    "Given two subjects from the Sleep Physionet dataset [1, 2],\n",
    "namely *Alice* and *Bob*, how well can we predict the sleep\n",
    "stages of *Bob* from *Alice's* data?\n",
    "\n",
    "This problem is tackled as supervised multiclass classification task. The aim\n",
    "is to predict the sleep stage from 5 possible stages for each chunk of 30\n",
    "seconds of data.\n",
    "\n",
    "\n",
    "## References\n",
    "\n",
    "[1] B Kemp, AH Zwinderman, B Tuk, HAC Kamphuisen, JJL Oberyé. Analysis of\n",
    "   a sleep-dependent neuronal feedback loop: the slow-wave\n",
    "   microcontinuity of the EEG. IEEE-BME 47(9):1185-1194 (2000).\n",
    "\n",
    "[2] Goldberger AL, Amaral LAN, Glass L, Hausdorff JM, Ivanov PCh,\n",
    "   Mark RG, Mietus JE, Moody GB, Peng C-K, Stanley HE. (2000)\n",
    "   PhysioBank, PhysioToolkit, and PhysioNet: Components of a New\n",
    "   Research Resource for Complex Physiologic Signals.\n",
    "   Circulation 101(23):e215-e220\n",
    "\n",
    "[3] Chambon, S., Galtier, M., Arnal, P., Wainrib, G. and Gramfort, A.\n",
    "  (2018)A Deep Learning Architecture for Temporal Sleep Stage\n",
    "  Classification Using Multivariate and Multimodal Time Series.\n",
    "  IEEE Trans. on Neural Systems and Rehabilitation Engineering 26:\n",
    "  (758-769)."
   ]
  },
  {
   "cell_type": "code",
   "execution_count": null,
   "metadata": {},
   "outputs": [],
   "source": [
    "# Authors: Alexandre Gramfort <alexandre.gramfort@inria.fr>\n",
    "#          Stanislas Chambon <stan.chambon@gmail.com>\n",
    "#          Joan Massich <mailsik@gmail.com>\n",
    "#\n",
    "# License: BSD Style.\n",
    "\n",
    "%matplotlib inline\n",
    "\n",
    "import numpy as np\n",
    "import matplotlib.pyplot as plt\n",
    "\n",
    "import mne\n",
    "from mne.datasets.sleep_physionet.age import fetch_data\n",
    "from mne.time_frequency import psd_welch\n",
    "\n",
    "from sklearn.ensemble import RandomForestClassifier\n",
    "from sklearn.metrics import accuracy_score\n",
    "from sklearn.metrics import confusion_matrix\n",
    "from sklearn.metrics import classification_report\n",
    "from sklearn.pipeline import make_pipeline\n",
    "from sklearn.preprocessing import FunctionTransformer"
   ]
  },
  {
   "cell_type": "markdown",
   "metadata": {},
   "source": [
    "## Load the data\n",
    "\n",
    "Here we download the data from two subjects and the end goal is to obtain\n",
    "epochs and its associated ground truth.\n",
    "\n",
    "MNE-Python provides us with\n",
    ":func:`mne.datasets.sleep_physionet.age.fetch_data` to conveniently download\n",
    "data from the Sleep Physionet dataset [1]_ [2]_.\n",
    "Given a list of subjects and records, the fetcher downloads the data and\n",
    "provides us for each subject, a pair of files:\n",
    "\n",
    "* ``-PSG.edf`` containing the polysomnography. The :term:`raw` data from the\n",
    "  EEG helmet,\n",
    "* ``-Hypnogram.edf`` containing the :term:`annotations` recorded by an\n",
    "  expert.\n",
    "\n",
    "Combining these two in a `mne.io.Raw` object then we can extract\n",
    "events based on the descriptions of the annotations to obtain the\n",
    "epochs.\n",
    "\n",
    "### Read the PSG data and Hypnograms to create a raw object\n",
    "\n"
   ]
  },
  {
   "cell_type": "code",
   "execution_count": null,
   "metadata": {},
   "outputs": [],
   "source": [
    "ALICE, BOB = 0, 1\n",
    "\n",
    "[alice_files, bob_files] = fetch_data(subjects=[ALICE, BOB], recording=[1])\n",
    "\n",
    "mapping = {'EOG horizontal': 'eog',\n",
    "           'Resp oro-nasal': 'misc',\n",
    "           'EMG submental': 'misc',\n",
    "           'Temp rectal': 'misc',\n",
    "           'Event marker': 'misc'}\n",
    "\n",
    "raw_train = mne.io.read_raw_edf(alice_files[0])\n",
    "annot_train = mne.read_annotations(alice_files[1])\n",
    "\n",
    "raw_train.set_annotations(annot_train, emit_warning=False)\n",
    "raw_train.set_channel_types(mapping)\n",
    "\n",
    "# plot some data\n",
    "raw_train.plot(duration=60, scalings='auto');"
   ]
  },
  {
   "cell_type": "markdown",
   "metadata": {},
   "source": [
    "### Extract 30s events from annotations\n",
    "\n",
    "The Sleep Physionet dataset is annotated using\n",
    "`8 labels <physionet_labels_>`_:\n",
    "Wake (W), Stage 1, Stage 2, Stage 3, Stage 4 corresponding to the range from\n",
    "light sleep to deep sleep, REM sleep (R) where REM is the abbreviation for\n",
    "Rapid Eye Movement sleep, movement (M), and Stage (?) for any none scored\n",
    "segment.\n",
    "\n",
    "We will work only with 5 stages: Wake (W), Stage 1, Stage 2, Stage 3/4, and\n",
    "REM sleep (R). To do so, we use the ``event_id`` parameter in\n",
    ":func:`mne.events_from_annotations` to select which events are we\n",
    "interested in and we associate an event identifier to each of them.\n",
    "\n",
    "Moreover, the recordings contain long awake (W) regions before and after each\n",
    "night. To limit the impact of class imbalance, we trim each recording by only\n",
    "keeping 30 minutes of wake time before the first occurrence and 30 minutes\n",
    "after the last occurrence of sleep stages.\n",
    "\n"
   ]
  },
  {
   "cell_type": "code",
   "execution_count": null,
   "metadata": {},
   "outputs": [],
   "source": [
    "annotation_desc_2_event_id = {'Sleep stage W': 1,\n",
    "                              'Sleep stage 1': 2,\n",
    "                              'Sleep stage 2': 3,\n",
    "                              'Sleep stage 3': 4,\n",
    "                              'Sleep stage 4': 4,\n",
    "                              'Sleep stage R': 5}\n",
    "\n",
    "# keep last 30-min wake events before sleep and first 30-min wake events after\n",
    "# sleep and redefine annotations on raw data\n",
    "annot_train.crop(annot_train[1]['onset'] - 30 * 60,\n",
    "                 annot_train[-2]['onset'] + 30 * 60)\n",
    "raw_train.set_annotations(annot_train, emit_warning=False)\n",
    "\n",
    "events_train, _ = mne.events_from_annotations(\n",
    "    raw_train, event_id=annotation_desc_2_event_id, chunk_duration=30.)\n",
    "\n",
    "# create a new event_id that unifies stages 3 and 4\n",
    "event_id = {'Sleep stage W': 1,\n",
    "            'Sleep stage 1': 2,\n",
    "            'Sleep stage 2': 3,\n",
    "            'Sleep stage 3/4': 4,\n",
    "            'Sleep stage R': 5}\n",
    "\n",
    "# plot events\n",
    "fig = mne.viz.plot_events(events_train, event_id=event_id,\n",
    "                          sfreq=raw_train.info['sfreq'],\n",
    "                          first_samp=events_train[0, 0])\n",
    "\n",
    "# keep the color-code for further plotting\n",
    "stage_colors = plt.rcParams['axes.prop_cycle'].by_key()['color']"
   ]
  },
  {
   "cell_type": "markdown",
   "metadata": {},
   "source": [
    "### Create Epochs from the data based on the events found in the annotations\n",
    "\n"
   ]
  },
  {
   "cell_type": "code",
   "execution_count": null,
   "metadata": {},
   "outputs": [],
   "source": [
    "tmax = 30. - 1. / raw_train.info['sfreq']  # tmax in included\n",
    "\n",
    "epochs_train = mne.Epochs(raw=raw_train, events=events_train,\n",
    "                          event_id=event_id, tmin=0., tmax=tmax, baseline=None)\n",
    "\n",
    "print(epochs_train)"
   ]
  },
  {
   "cell_type": "markdown",
   "metadata": {},
   "source": [
    "### Applying the same steps to the test data from Bob\n",
    "\n"
   ]
  },
  {
   "cell_type": "code",
   "execution_count": null,
   "metadata": {},
   "outputs": [],
   "source": [
    "raw_test = mne.io.read_raw_edf(bob_files[0])\n",
    "annot_test = mne.read_annotations(bob_files[1])\n",
    "annot_test.crop(annot_test[1]['onset'] - 30 * 60,\n",
    "                annot_test[-2]['onset'] + 30 * 60)\n",
    "raw_test.set_annotations(annot_test, emit_warning=False)\n",
    "raw_test.set_channel_types(mapping)\n",
    "events_test, _ = mne.events_from_annotations(\n",
    "    raw_test, event_id=annotation_desc_2_event_id, chunk_duration=30.)\n",
    "epochs_test = mne.Epochs(raw=raw_test, events=events_test, event_id=event_id,\n",
    "                         tmin=0., tmax=tmax, baseline=None)\n",
    "\n",
    "print(epochs_test)"
   ]
  },
  {
   "cell_type": "markdown",
   "metadata": {},
   "source": [
    "## Feature Engineering\n",
    "\n",
    "Observing the power spectral density (PSD) plot of the :term:`epochs` grouped\n",
    "by sleeping stage we can see that different sleep stages have different\n",
    "signatures. These signatures remain similar between Alice and Bob's data.\n",
    "\n",
    "The rest of this section we will create EEG features based on relative power\n",
    "in specific frequency bands to capture this difference between the sleep\n",
    "stages in our data.\n",
    "\n"
   ]
  },
  {
   "cell_type": "code",
   "execution_count": null,
   "metadata": {},
   "outputs": [],
   "source": [
    "# visualize Alice vs. Bob PSD by sleep stage.\n",
    "fig, (ax1, ax2) = plt.subplots(ncols=2, figsize=(12, 5))\n",
    "\n",
    "# iterate over the subjects\n",
    "stages = sorted(event_id.keys())\n",
    "for ax, title, epochs in zip([ax1, ax2],\n",
    "                             ['Alice', 'Bob'],\n",
    "                             [epochs_train, epochs_test]):\n",
    "\n",
    "    for stage, color in zip(stages, stage_colors):\n",
    "        epochs[stage].plot_psd(area_mode=None, color=color, ax=ax,\n",
    "                               fmin=0.1, fmax=20., show=False,\n",
    "                               average=True, spatial_colors=False)\n",
    "    ax.set(title=title, xlabel='Frequency (Hz)')\n",
    "ax2.set(ylabel='µV^2/Hz (dB)')\n",
    "ax2.legend(ax2.lines[2::3], stages)\n",
    "plt.show()"
   ]
  },
  {
   "cell_type": "markdown",
   "metadata": {},
   "source": [
    "### Design a scikit-learn transformer from a Python function\n",
    "\n",
    "We will now create a function to extract EEG features based on relative power\n",
    "in specific frequency bands to be able to predict sleep stages from EEG\n",
    "signals.\n",
    "\n"
   ]
  },
  {
   "cell_type": "code",
   "execution_count": null,
   "metadata": {},
   "outputs": [],
   "source": [
    "def eeg_power_band(epochs):\n",
    "    \"\"\"EEG relative power band feature extraction.\n",
    "\n",
    "    This function takes an ``mne.Epochs`` object and creates EEG features based\n",
    "    on relative power in specific frequency bands that are compatible with\n",
    "    scikit-learn.\n",
    "\n",
    "    Parameters\n",
    "    ----------\n",
    "    epochs : Epochs\n",
    "        The data.\n",
    "\n",
    "    Returns\n",
    "    -------\n",
    "    X : numpy array of shape [n_samples, 5]\n",
    "        Transformed data.\n",
    "    \"\"\"\n",
    "    # specific frequency bands\n",
    "    FREQ_BANDS = {\"delta\": [0.5, 4.5],\n",
    "                  \"theta\": [4.5, 8.5],\n",
    "                  \"alpha\": [8.5, 11.5],\n",
    "                  \"sigma\": [11.5, 15.5],\n",
    "                  \"beta\": [15.5, 30]}\n",
    "\n",
    "    psds, freqs = psd_welch(epochs, picks='eeg', fmin=0.5, fmax=30.)\n",
    "    # Normalize the PSDs\n",
    "    psds /= np.sum(psds, axis=-1, keepdims=True)\n",
    "\n",
    "    X = []\n",
    "    for fmin, fmax in FREQ_BANDS.values():\n",
    "        psds_band = psds[:, :, (freqs >= fmin) & (freqs < fmax)].mean(axis=-1)\n",
    "        X.append(psds_band.reshape(len(psds), -1))\n",
    "\n",
    "    return np.concatenate(X, axis=1)"
   ]
  },
  {
   "cell_type": "markdown",
   "metadata": {},
   "source": [
    "## Multiclass classification workflow using scikit-learn\n",
    "\n",
    "To answer the question of how well can we predict the sleep stages of Bob\n",
    "from Alice's data and avoid as much boilerplate code as possible, we will\n",
    "take advantage of two key features of sckit-learn:\n",
    "`Pipeline`_ , and `FunctionTransformer`_.\n",
    "\n",
    "Scikit-learn pipeline composes an estimator as a sequence of transforms\n",
    "and a final estimator, while the FunctionTransformer converts a python\n",
    "function in an estimator compatible object. In this manner we can create\n",
    "scikit-learn estimator that takes :class:`mne.Epochs` thanks to\n",
    "``eeg_power_band`` function we just created.\n",
    "\n"
   ]
  },
  {
   "cell_type": "code",
   "execution_count": null,
   "metadata": {},
   "outputs": [],
   "source": [
    "pipe = make_pipeline(FunctionTransformer(eeg_power_band, validate=False),\n",
    "                     RandomForestClassifier(n_estimators=100, random_state=42))\n",
    "\n",
    "# Train\n",
    "y_train = epochs_train.events[:, 2]\n",
    "pipe.fit(epochs_train, y_train)\n",
    "\n",
    "# Test\n",
    "y_pred = pipe.predict(epochs_test)\n",
    "\n",
    "# Assess the results\n",
    "y_test = epochs_test.events[:, 2]\n",
    "acc = accuracy_score(y_test, y_pred)\n",
    "\n",
    "print(\"Accuracy score: {}\".format(acc))"
   ]
  },
  {
   "cell_type": "markdown",
   "metadata": {},
   "source": [
    "In short, yes. We can predict Bob's sleeping stages based on Alice's data.\n",
    "\n",
    "### Further analysis of the data\n",
    "\n",
    "We can check the confusion matrix or the classification report.\n",
    "\n"
   ]
  },
  {
   "cell_type": "code",
   "execution_count": null,
   "metadata": {},
   "outputs": [],
   "source": [
    "print(confusion_matrix(y_test, y_pred))"
   ]
  },
  {
   "cell_type": "code",
   "execution_count": null,
   "metadata": {},
   "outputs": [],
   "source": [
    "print(classification_report(y_test, y_pred, target_names=event_id.keys()))"
   ]
  },
  {
   "cell_type": "markdown",
   "metadata": {},
   "source": [
    "<div class=\"alert alert-success\">\n",
    "    <b>EXERCISES:</b>\n",
    "     <ul>\n",
    "      <li>Fetch 50 subjects from the Physionet database and run a 5-fold\n",
    "cross-validation leaving each time 10 subjects out in the test set.</li>\n",
    "    </ul>\n",
    "</div>"
   ]
  }
 ],
 "metadata": {
  "kernelspec": {
   "display_name": "Python 3 (ipykernel)",
   "language": "python",
   "name": "python3"
  },
  "language_info": {
   "codemirror_mode": {
    "name": "ipython",
    "version": 3
   },
   "file_extension": ".py",
   "mimetype": "text/x-python",
   "name": "python",
   "nbconvert_exporter": "python",
   "pygments_lexer": "ipython3",
   "version": "3.10.6"
  },
  "vscode": {
   "interpreter": {
    "hash": "8d1899d3d453529ab54a548c453eb03872168ef6a9900e12952b62a455030e12"
   }
  }
 },
 "nbformat": 4,
 "nbformat_minor": 1
}
