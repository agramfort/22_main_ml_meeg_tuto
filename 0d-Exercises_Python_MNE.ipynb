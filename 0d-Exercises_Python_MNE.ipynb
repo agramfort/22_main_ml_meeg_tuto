{
 "cells": [
  {
   "cell_type": "markdown",
   "metadata": {},
   "source": [
    "# Exercise\n",
    "\n",
    "Author: Alexandre Gramfort\n",
    "\n",
    "We'll use Python to explore the content of the MNE-sample-data folder"
   ]
  },
  {
   "cell_type": "code",
   "execution_count": null,
   "metadata": {
    "tags": []
   },
   "outputs": [],
   "source": [
    "from mne.datasets import sample\n",
    "\n",
    "data_path = sample.data_path()\n",
    "print(data_path)"
   ]
  },
  {
   "cell_type": "code",
   "execution_count": null,
   "metadata": {
    "tags": []
   },
   "outputs": [],
   "source": [
    "import glob\n",
    "\n",
    "fif_files = glob.glob(data_path + '/MEG/sample/' + '*.fif')\n",
    "print(fif_files)"
   ]
  },
  {
   "cell_type": "code",
   "execution_count": null,
   "metadata": {},
   "outputs": [],
   "source": [
    "subjects_dir = data_path + '/subjects'\n",
    "subject = 'sample'\n",
    "surf_dir = subjects_dir + \"/\" + subject + '/surf'\n",
    "print(surf_dir)"
   ]
  },
  {
   "cell_type": "markdown",
   "metadata": {},
   "source": [
    "# Questions\n",
    "\n",
    "- What is the type of the variable `fif_files` ?\n",
    "- Sort inplace the content of `fif_files`\n",
    "- What is the length of `fif_files` ?\n",
    "- How many files is there in the folder `surf_dir` ?\n",
    "- How many files have a name that starts with `lh`?\n",
    "- How many files are raw files (end with `raw.fif`) ?\n",
    "- Create a new list restricted to the files of type raw?"
   ]
  },
  {
   "cell_type": "code",
   "execution_count": null,
   "metadata": {},
   "outputs": [],
   "source": []
  }
 ],
 "metadata": {
  "kernelspec": {
   "display_name": "Python 3",
   "language": "python",
   "name": "python3"
  },
  "language_info": {
   "codemirror_mode": {
    "name": "ipython",
    "version": 3
   },
   "file_extension": ".py",
   "mimetype": "text/x-python",
   "name": "python",
   "nbconvert_exporter": "python",
   "pygments_lexer": "ipython3",
   "version": "3.8.5"
  },
  "widgets": {
   "state": {},
   "version": "1.1.2"
  }
 },
 "nbformat": 4,
 "nbformat_minor": 1
}
