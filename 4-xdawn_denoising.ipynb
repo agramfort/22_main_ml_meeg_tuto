{
 "cells": [
  {
   "cell_type": "code",
   "execution_count": null,
   "metadata": {},
   "outputs": [],
   "source": [
    "%matplotlib inline"
   ]
  },
  {
   "cell_type": "markdown",
   "metadata": {},
   "source": [
    "\n",
    "#  XDAWN Denoising\n",
    "\n",
    "\n",
    "`\n",
    "Authors:\n",
    "Alexandre Barachant\n",
    "Alexandre Gramfort\n",
    "Richard Höchenberger\n",
    "`\n",
    "\n",
    "XDAWN filters are trained from epochs, signal is projected in the sources\n",
    "space and then projected back in the sensor space using only the first two\n",
    "XDAWN components. The process is similar to an ICA, but is\n",
    "supervised in order to maximize the signal to signal + noise ratio of the\n",
    "evoked response.\n",
    "\n",
    "<div class=\"alert alert-danger\">\n",
    "    <h4>Warning</h4>\n",
    "    <p>As this denoising method exploits the known events to\n",
    "       maximize SNR of the contrast between conditions it can lead\n",
    "       to overfitting. To avoid a statistical analysis problem you\n",
    "       should split epochs used in fit with the ones used in\n",
    "       apply method.</p>\n",
    "</div>\n",
    "\n",
    "References\n",
    "----------\n",
    "[1] Rivet, B., Souloumiac, A., Attina, V., & Gibert, G. (2009). xDAWN\n",
    "algorithm to enhance evoked potentials: application to brain-computer\n",
    "interface. Biomedical Engineering, IEEE Transactions on, 56(8), 2035-2043.\n",
    "\n",
    "[2] Rivet, B., Cecotti, H., Souloumiac, A., Maby, E., & Mattout, J. (2011,\n",
    "August). Theoretical analysis of xDAWN algorithm: application to an\n",
    "efficient sensor selection in a P300 BCI. In Signal Processing Conference,\n",
    "2011 19th European (pp. 1382-1386). IEEE.\n",
    "\n"
   ]
  },
  {
   "cell_type": "code",
   "execution_count": null,
   "metadata": {},
   "outputs": [],
   "source": [
    "import os\n",
    "\n",
    "from mne import (io, compute_raw_covariance, read_events, pick_types, Epochs)\n",
    "from mne.datasets import sample\n",
    "from mne.preprocessing import Xdawn\n",
    "from mne.viz import plot_epochs_image\n",
    "\n",
    "data_path = sample.data_path()\n",
    "data_path"
   ]
  },
  {
   "cell_type": "markdown",
   "metadata": {},
   "source": [
    "Set parameters and read data\n",
    "\n"
   ]
  },
  {
   "cell_type": "code",
   "execution_count": null,
   "metadata": {},
   "outputs": [],
   "source": [
    "raw_fname = data_path / 'MEG/sample/sample_audvis_filt-0-40_raw.fif'\n",
    "event_fname = data_path / 'MEG/sample/sample_audvis_filt-0-40_raw-eve.fif'\n",
    "tmin, tmax = -0.1, 0.3\n",
    "event_id = dict(vis_r=4)\n",
    "\n",
    "# Setup for reading the raw data\n",
    "raw = io.read_raw_fif(raw_fname, preload=True)\n",
    "raw.filter(1, None)  # replace baselining with high-pass\n",
    "events = read_events(event_fname)\n",
    "\n",
    "raw.info['bads'] = ['MEG 2443']  # set bad channels\n",
    "picks = pick_types(raw.info, meg=True, eeg=False, stim=False, eog=False,\n",
    "                   exclude='bads')\n",
    "# Epoching\n",
    "epochs = Epochs(raw, events, event_id, tmin, tmax, proj=False,\n",
    "                picks=picks, baseline=None, preload=True,\n",
    "                verbose=False)"
   ]
  },
  {
   "cell_type": "code",
   "execution_count": null,
   "metadata": {},
   "outputs": [],
   "source": [
    "epochs.average().plot();"
   ]
  },
  {
   "cell_type": "code",
   "execution_count": null,
   "metadata": {},
   "outputs": [],
   "source": [
    "# Plot image epoch before xDAWN\n",
    "plot_epochs_image(epochs['vis_r'], picks=[230], vmin=-500, vmax=500);"
   ]
  },
  {
   "cell_type": "code",
   "execution_count": null,
   "metadata": {},
   "outputs": [],
   "source": [
    "# Estimates signal covariance\n",
    "signal_cov = compute_raw_covariance(raw, picks=picks)\n",
    "\n",
    "# Xdawn instance\n",
    "xd = Xdawn(n_components=20, signal_cov=signal_cov)\n",
    "\n",
    "# Fit xdawn\n",
    "xd.fit(epochs)\n",
    "\n",
    "# Denoise epochs\n",
    "epochs_denoised = xd.apply(epochs)"
   ]
  },
  {
   "cell_type": "code",
   "execution_count": null,
   "metadata": {},
   "outputs": [],
   "source": [
    "# Plot image epoch after Xdawn\n",
    "plot_epochs_image(epochs_denoised['vis_r'], picks=[230], vmin=-500, vmax=500)"
   ]
  },
  {
   "cell_type": "code",
   "execution_count": null,
   "metadata": {},
   "outputs": [],
   "source": [
    "epochs['vis_r'].average().plot();"
   ]
  },
  {
   "cell_type": "code",
   "execution_count": null,
   "metadata": {},
   "outputs": [],
   "source": [
    "epochs_denoised['vis_r'].average().plot();"
   ]
  },
  {
   "cell_type": "markdown",
   "metadata": {},
   "source": [
    "<div class=\"alert alert-success\">\n",
    "    <b>EXERCISES:</b>\n",
    "     <ul>\n",
    "      <li>Use <pre>mne.compute_covariance</pre> and <pre>mne.viz.plot_cov</pre> to compute and visualize the covariance of the epochs and epochs_denoised. What do you observe?</li>\n",
    "    </ul>\n",
    "</div>"
   ]
  },
  {
   "cell_type": "markdown",
   "metadata": {},
   "source": []
  }
 ],
 "metadata": {
  "kernelspec": {
   "display_name": "Python 3 (ipykernel)",
   "language": "python",
   "name": "python3"
  },
  "language_info": {
   "codemirror_mode": {
    "name": "ipython",
    "version": 3
   },
   "file_extension": ".py",
   "mimetype": "text/x-python",
   "name": "python",
   "nbconvert_exporter": "python",
   "pygments_lexer": "ipython3",
   "version": "3.10.6"
  },
  "vscode": {
   "interpreter": {
    "hash": "8d1899d3d453529ab54a548c453eb03872168ef6a9900e12952b62a455030e12"
   }
  }
 },
 "nbformat": 4,
 "nbformat_minor": 1
}
